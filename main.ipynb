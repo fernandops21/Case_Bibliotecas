{
 "cells": [
  {
   "cell_type": "code",
   "execution_count": 1,
   "metadata": {},
   "outputs": [],
   "source": [
    "import matplotlib.pyplot as plt\n",
    "import numpy as np\n",
    "import seaborn as sns\n",
    "import pandas as pd"
   ]
  },
  {
   "cell_type": "code",
   "execution_count": 2,
   "metadata": {},
   "outputs": [],
   "source": [
    "df1 = pd.read_csv(\"df1.csv\")\n",
    "df2 = pd.read_csv(\"df2.csv\")\n",
    "df3 = pd.read_csv(\"df3.csv\")\n",
    "\n",
    "# df1.info()\n",
    "# df2.info()\n",
    "# df3.info()\n",
    "# df1.describe(include=\"all\")\n",
    "# df2.describe(include=\"all\")\n",
    "# df3.describe(include=\"all\")"
   ]
  },
  {
   "cell_type": "code",
   "execution_count": 3,
   "metadata": {},
   "outputs": [
    {
     "data": {
      "text/html": [
       "<div>\n",
       "<style scoped>\n",
       "    .dataframe tbody tr th:only-of-type {\n",
       "        vertical-align: middle;\n",
       "    }\n",
       "\n",
       "    .dataframe tbody tr th {\n",
       "        vertical-align: top;\n",
       "    }\n",
       "\n",
       "    .dataframe thead th {\n",
       "        text-align: right;\n",
       "    }\n",
       "</style>\n",
       "<table border=\"1\" class=\"dataframe\">\n",
       "  <thead>\n",
       "    <tr style=\"text-align: right;\">\n",
       "      <th></th>\n",
       "      <th>Unnamed: 0</th>\n",
       "      <th>country_code</th>\n",
       "      <th>country_name</th>\n",
       "      <th>country_continental</th>\n",
       "      <th>num_internet_plans</th>\n",
       "      <th>avg_price</th>\n",
       "      <th>min_price</th>\n",
       "      <th>max_price</th>\n",
       "      <th>avg_price_start_2021</th>\n",
       "      <th>avg_price_start_2020</th>\n",
       "    </tr>\n",
       "  </thead>\n",
       "  <tbody>\n",
       "    <tr>\n",
       "      <th>0</th>\n",
       "      <td>0</td>\n",
       "      <td>IL</td>\n",
       "      <td>Israel</td>\n",
       "      <td>NEAR EAST</td>\n",
       "      <td>27.0</td>\n",
       "      <td>0.05</td>\n",
       "      <td>0.02</td>\n",
       "      <td>20.95</td>\n",
       "      <td>0.11</td>\n",
       "      <td>0.90</td>\n",
       "    </tr>\n",
       "    <tr>\n",
       "      <th>1</th>\n",
       "      <td>1</td>\n",
       "      <td>KG</td>\n",
       "      <td>Kyrgyzstan</td>\n",
       "      <td>CIS (FORMER USSR)</td>\n",
       "      <td>20.0</td>\n",
       "      <td>0.15</td>\n",
       "      <td>0.10</td>\n",
       "      <td>7.08</td>\n",
       "      <td>0.21</td>\n",
       "      <td>0.27</td>\n",
       "    </tr>\n",
       "    <tr>\n",
       "      <th>2</th>\n",
       "      <td>2</td>\n",
       "      <td>FJ</td>\n",
       "      <td>Fiji</td>\n",
       "      <td>OCEANIA</td>\n",
       "      <td>18.0</td>\n",
       "      <td>0.19</td>\n",
       "      <td>0.05</td>\n",
       "      <td>0.85</td>\n",
       "      <td>0.59</td>\n",
       "      <td>3.57</td>\n",
       "    </tr>\n",
       "    <tr>\n",
       "      <th>3</th>\n",
       "      <td>3</td>\n",
       "      <td>IT</td>\n",
       "      <td>Italy</td>\n",
       "      <td>WESTERN EUROPE</td>\n",
       "      <td>29.0</td>\n",
       "      <td>0.27</td>\n",
       "      <td>0.09</td>\n",
       "      <td>3.54</td>\n",
       "      <td>0.43</td>\n",
       "      <td>1.73</td>\n",
       "    </tr>\n",
       "    <tr>\n",
       "      <th>4</th>\n",
       "      <td>4</td>\n",
       "      <td>SD</td>\n",
       "      <td>Sudan</td>\n",
       "      <td>SUB-SAHARAN AFRICA</td>\n",
       "      <td>33.0</td>\n",
       "      <td>0.27</td>\n",
       "      <td>0.03</td>\n",
       "      <td>0.92</td>\n",
       "      <td>0.63</td>\n",
       "      <td>0.68</td>\n",
       "    </tr>\n",
       "  </tbody>\n",
       "</table>\n",
       "</div>"
      ],
      "text/plain": [
       "   Unnamed: 0 country_code country_name country_continental  \\\n",
       "0           0           IL       Israel           NEAR EAST   \n",
       "1           1           KG   Kyrgyzstan   CIS (FORMER USSR)   \n",
       "2           2           FJ         Fiji             OCEANIA   \n",
       "3           3           IT        Italy      WESTERN EUROPE   \n",
       "4           4           SD        Sudan  SUB-SAHARAN AFRICA   \n",
       "\n",
       "   num_internet_plans  avg_price  min_price  max_price  avg_price_start_2021  \\\n",
       "0                27.0       0.05       0.02      20.95                  0.11   \n",
       "1                20.0       0.15       0.10       7.08                  0.21   \n",
       "2                18.0       0.19       0.05       0.85                  0.59   \n",
       "3                29.0       0.27       0.09       3.54                  0.43   \n",
       "4                33.0       0.27       0.03       0.92                  0.63   \n",
       "\n",
       "   avg_price_start_2020  \n",
       "0                  0.90  \n",
       "1                  0.27  \n",
       "2                  3.57  \n",
       "3                  1.73  \n",
       "4                  0.68  "
      ]
     },
     "execution_count": 3,
     "metadata": {},
     "output_type": "execute_result"
    }
   ],
   "source": [
    "df1.head()"
   ]
  },
  {
   "cell_type": "code",
   "execution_count": 4,
   "metadata": {},
   "outputs": [
    {
     "data": {
      "text/html": [
       "<div>\n",
       "<style scoped>\n",
       "    .dataframe tbody tr th:only-of-type {\n",
       "        vertical-align: middle;\n",
       "    }\n",
       "\n",
       "    .dataframe tbody tr th {\n",
       "        vertical-align: top;\n",
       "    }\n",
       "\n",
       "    .dataframe thead th {\n",
       "        text-align: right;\n",
       "    }\n",
       "</style>\n",
       "<table border=\"1\" class=\"dataframe\">\n",
       "  <thead>\n",
       "    <tr style=\"text-align: right;\">\n",
       "      <th></th>\n",
       "      <th>Unnamed: 0</th>\n",
       "      <th>country_name</th>\n",
       "      <th>avg_speed</th>\n",
       "    </tr>\n",
       "  </thead>\n",
       "  <tbody>\n",
       "    <tr>\n",
       "      <th>0</th>\n",
       "      <td>0</td>\n",
       "      <td>Canada</td>\n",
       "      <td>75.18</td>\n",
       "    </tr>\n",
       "    <tr>\n",
       "      <th>1</th>\n",
       "      <td>1</td>\n",
       "      <td>South Korea</td>\n",
       "      <td>117.95</td>\n",
       "    </tr>\n",
       "    <tr>\n",
       "      <th>2</th>\n",
       "      <td>2</td>\n",
       "      <td>Netherlands</td>\n",
       "      <td>108.33</td>\n",
       "    </tr>\n",
       "    <tr>\n",
       "      <th>3</th>\n",
       "      <td>3</td>\n",
       "      <td>Japan</td>\n",
       "      <td>44.05</td>\n",
       "    </tr>\n",
       "    <tr>\n",
       "      <th>4</th>\n",
       "      <td>4</td>\n",
       "      <td>Norway</td>\n",
       "      <td>134.73</td>\n",
       "    </tr>\n",
       "  </tbody>\n",
       "</table>\n",
       "</div>"
      ],
      "text/plain": [
       "   Unnamed: 0 country_name  avg_speed\n",
       "0           0       Canada      75.18\n",
       "1           1  South Korea     117.95\n",
       "2           2  Netherlands     108.33\n",
       "3           3        Japan      44.05\n",
       "4           4       Norway     134.73"
      ]
     },
     "execution_count": 4,
     "metadata": {},
     "output_type": "execute_result"
    }
   ],
   "source": [
    "df2.head()"
   ]
  },
  {
   "cell_type": "code",
   "execution_count": 5,
   "metadata": {},
   "outputs": [
    {
     "data": {
      "text/html": [
       "<div>\n",
       "<style scoped>\n",
       "    .dataframe tbody tr th:only-of-type {\n",
       "        vertical-align: middle;\n",
       "    }\n",
       "\n",
       "    .dataframe tbody tr th {\n",
       "        vertical-align: top;\n",
       "    }\n",
       "\n",
       "    .dataframe thead th {\n",
       "        text-align: right;\n",
       "    }\n",
       "</style>\n",
       "<table border=\"1\" class=\"dataframe\">\n",
       "  <thead>\n",
       "    <tr style=\"text-align: right;\">\n",
       "      <th></th>\n",
       "      <th>Unnamed: 0</th>\n",
       "      <th>country_name</th>\n",
       "      <th>country_subregion</th>\n",
       "      <th>country_region</th>\n",
       "      <th>internet_users</th>\n",
       "      <th>population</th>\n",
       "    </tr>\n",
       "  </thead>\n",
       "  <tbody>\n",
       "    <tr>\n",
       "      <th>0</th>\n",
       "      <td>0</td>\n",
       "      <td>China</td>\n",
       "      <td>Eastern Asia</td>\n",
       "      <td>Asia</td>\n",
       "      <td>1010740000</td>\n",
       "      <td>1427647786</td>\n",
       "    </tr>\n",
       "    <tr>\n",
       "      <th>1</th>\n",
       "      <td>1</td>\n",
       "      <td>India</td>\n",
       "      <td>Southern Asia</td>\n",
       "      <td>Asia</td>\n",
       "      <td>833710000</td>\n",
       "      <td>1352642280</td>\n",
       "    </tr>\n",
       "    <tr>\n",
       "      <th>2</th>\n",
       "      <td>2</td>\n",
       "      <td>United States</td>\n",
       "      <td>Northern America</td>\n",
       "      <td>Americas</td>\n",
       "      <td>312320000</td>\n",
       "      <td>327096265</td>\n",
       "    </tr>\n",
       "    <tr>\n",
       "      <th>3</th>\n",
       "      <td>3</td>\n",
       "      <td>Indonesia</td>\n",
       "      <td>South-eastern Asia</td>\n",
       "      <td>Asia</td>\n",
       "      <td>196000000</td>\n",
       "      <td>267670543</td>\n",
       "    </tr>\n",
       "    <tr>\n",
       "      <th>4</th>\n",
       "      <td>4</td>\n",
       "      <td>Brazil</td>\n",
       "      <td>South America</td>\n",
       "      <td>Americas</td>\n",
       "      <td>160010801</td>\n",
       "      <td>209469323</td>\n",
       "    </tr>\n",
       "  </tbody>\n",
       "</table>\n",
       "</div>"
      ],
      "text/plain": [
       "   Unnamed: 0   country_name   country_subregion country_region  \\\n",
       "0           0          China        Eastern Asia           Asia   \n",
       "1           1          India       Southern Asia           Asia   \n",
       "2           2  United States    Northern America       Americas   \n",
       "3           3      Indonesia  South-eastern Asia           Asia   \n",
       "4           4         Brazil       South America       Americas   \n",
       "\n",
       "   internet_users  population  \n",
       "0      1010740000  1427647786  \n",
       "1       833710000  1352642280  \n",
       "2       312320000   327096265  \n",
       "3       196000000   267670543  \n",
       "4       160010801   209469323  "
      ]
     },
     "execution_count": 5,
     "metadata": {},
     "output_type": "execute_result"
    }
   ],
   "source": [
    "df3.head()"
   ]
  },
  {
   "cell_type": "markdown",
   "metadata": {},
   "source": [
    "## 1 - Quantas empresas foram consultadas?"
   ]
  },
  {
   "cell_type": "code",
   "execution_count": 6,
   "metadata": {},
   "outputs": [
    {
     "data": {
      "text/plain": [
       "6063.0"
      ]
     },
     "execution_count": 6,
     "metadata": {},
     "output_type": "execute_result"
    }
   ],
   "source": [
    "total_planos = df1.num_internet_plans.sum()\n",
    "total_planos"
   ]
  },
  {
   "cell_type": "markdown",
   "metadata": {},
   "source": [
    "## 2 - Calcule a Variação percentual entre o preço médio da internet entre o início 2020 e 2021, usando como base o preço de 2021.\n",
    "\n",
    "Essa pergunta não foi muito bem formulada e possui algumas interpretações possíveis.\n",
    "Responderei: Variação percentual do preço médio no ínicio de 2020 para o preço médio no início de 2021."
   ]
  },
  {
   "cell_type": "code",
   "execution_count": 7,
   "metadata": {},
   "outputs": [
    {
     "name": "stdout",
     "output_type": "stream",
     "text": [
      "Variação percentual: 61.38%\n",
      "Ou seja, o preço em 2021 foi, em média, 61.38% do preço em 2020. Ou ainda, 38.62% menor.\n"
     ]
    }
   ],
   "source": [
    "print(f'Variação percentual: {df1.avg_price_start_2021.sum()/df1.avg_price_start_2020.sum()*100:.2f}%')\n",
    "print(f'Ou seja, o preço em 2021 foi, em média, 61.38% do preço em 2020. Ou ainda, {100-61.38}% menor.')"
   ]
  },
  {
   "cell_type": "markdown",
   "metadata": {},
   "source": [
    "## 3 - Calcule o preço médio geral da internet dos países que sejam da SOUTH AMERICA."
   ]
  },
  {
   "cell_type": "code",
   "execution_count": 8,
   "metadata": {},
   "outputs": [
    {
     "name": "stdout",
     "output_type": "stream",
     "text": [
      "Preço médio: 2.16\n"
     ]
    }
   ],
   "source": [
    "#df1.country_continental.value_counts()\n",
    "df_SA = df1[df1[\"country_continental\"]==\"SOUTH AMERICA\"] \n",
    "df_SA = df_SA.assign(total_price = df_SA.avg_price*df_SA.num_internet_plans)\n",
    "avg_price_SA = df_SA.total_price.sum()/df_SA['num_internet_plans'].sum()\n",
    "print(f'Preço médio: {avg_price_SA:.2f}')\n"
   ]
  },
  {
   "cell_type": "markdown",
   "metadata": {},
   "source": [
    "## 4 - Qual os 5 países que tem a maior taxa de usabilidade de internet em relação a população?"
   ]
  },
  {
   "cell_type": "code",
   "execution_count": 9,
   "metadata": {},
   "outputs": [
    {
     "data": {
      "text/plain": [
       "192    Faroe Islands\n",
       "177          Andorra\n",
       "198    Liechtenstein\n",
       "94            Kuwait\n",
       "162          Iceland\n",
       "Name: country_name, dtype: object"
      ]
     },
     "execution_count": 9,
     "metadata": {},
     "output_type": "execute_result"
    }
   ],
   "source": [
    "df3 = df3.assign(razao = df3.internet_users/df3.population)\n",
    "df3.sort_values(\"razao\", ascending=False).head(5).country_name"
   ]
  },
  {
   "cell_type": "markdown",
   "metadata": {},
   "source": [
    "## 5 - Faça um gráfico que mostre o número de países que apresentem uma taxa de usabilidade maior que 75% agrupados por Continente?"
   ]
  },
  {
   "cell_type": "code",
   "execution_count": 10,
   "metadata": {},
   "outputs": [
    {
     "data": {
      "image/png": "[encoded data removed]",
      "text/plain": [
       "<Figure size 720x360 with 1 Axes>"
      ]
     },
     "metadata": {
      "needs_background": "light"
     },
     "output_type": "display_data"
    }
   ],
   "source": [
    "plt.figure(figsize=(10,5))\n",
    "#sns.countplot(data=df3[df3['razao'] >= 0.75],x = 'country_region')\n",
    "df3[df3.razao>=0.75].groupby(\"country_region\").country_name.count().plot(kind=\"barh\", zorder=2)\n",
    "plt.title(\"Número de países por continente que tenham uma taxa maior que 75%\")\n",
    "plt.ylabel(\"Continente\")\n",
    "plt.xlabel(\"Número de países\")\n",
    "plt.grid(axis=\"x\")\n",
    "plt.show()"
   ]
  },
  {
   "cell_type": "markdown",
   "metadata": {},
   "source": [
    "## 6 - Calcule a amplitude de preço entre os planos de internet."
   ]
  },
  {
   "cell_type": "code",
   "execution_count": 11,
   "metadata": {},
   "outputs": [
    {
     "data": {
      "text/html": [
       "<div>\n",
       "<style scoped>\n",
       "    .dataframe tbody tr th:only-of-type {\n",
       "        vertical-align: middle;\n",
       "    }\n",
       "\n",
       "    .dataframe tbody tr th {\n",
       "        vertical-align: top;\n",
       "    }\n",
       "\n",
       "    .dataframe thead th {\n",
       "        text-align: right;\n",
       "    }\n",
       "</style>\n",
       "<table border=\"1\" class=\"dataframe\">\n",
       "  <thead>\n",
       "    <tr style=\"text-align: right;\">\n",
       "      <th></th>\n",
       "      <th>Unnamed: 0</th>\n",
       "      <th>country_code</th>\n",
       "      <th>country_name</th>\n",
       "      <th>country_continental</th>\n",
       "      <th>num_internet_plans</th>\n",
       "      <th>avg_price</th>\n",
       "      <th>min_price</th>\n",
       "      <th>max_price</th>\n",
       "      <th>avg_price_start_2021</th>\n",
       "      <th>avg_price_start_2020</th>\n",
       "      <th>amplitude_preco</th>\n",
       "    </tr>\n",
       "  </thead>\n",
       "  <tbody>\n",
       "    <tr>\n",
       "      <th>0</th>\n",
       "      <td>0</td>\n",
       "      <td>IL</td>\n",
       "      <td>Israel</td>\n",
       "      <td>NEAR EAST</td>\n",
       "      <td>27.0</td>\n",
       "      <td>0.05</td>\n",
       "      <td>0.02</td>\n",
       "      <td>20.95</td>\n",
       "      <td>0.11</td>\n",
       "      <td>0.90</td>\n",
       "      <td>20.93</td>\n",
       "    </tr>\n",
       "    <tr>\n",
       "      <th>1</th>\n",
       "      <td>1</td>\n",
       "      <td>KG</td>\n",
       "      <td>Kyrgyzstan</td>\n",
       "      <td>CIS (FORMER USSR)</td>\n",
       "      <td>20.0</td>\n",
       "      <td>0.15</td>\n",
       "      <td>0.10</td>\n",
       "      <td>7.08</td>\n",
       "      <td>0.21</td>\n",
       "      <td>0.27</td>\n",
       "      <td>6.98</td>\n",
       "    </tr>\n",
       "    <tr>\n",
       "      <th>2</th>\n",
       "      <td>2</td>\n",
       "      <td>FJ</td>\n",
       "      <td>Fiji</td>\n",
       "      <td>OCEANIA</td>\n",
       "      <td>18.0</td>\n",
       "      <td>0.19</td>\n",
       "      <td>0.05</td>\n",
       "      <td>0.85</td>\n",
       "      <td>0.59</td>\n",
       "      <td>3.57</td>\n",
       "      <td>0.80</td>\n",
       "    </tr>\n",
       "    <tr>\n",
       "      <th>3</th>\n",
       "      <td>3</td>\n",
       "      <td>IT</td>\n",
       "      <td>Italy</td>\n",
       "      <td>WESTERN EUROPE</td>\n",
       "      <td>29.0</td>\n",
       "      <td>0.27</td>\n",
       "      <td>0.09</td>\n",
       "      <td>3.54</td>\n",
       "      <td>0.43</td>\n",
       "      <td>1.73</td>\n",
       "      <td>3.45</td>\n",
       "    </tr>\n",
       "    <tr>\n",
       "      <th>4</th>\n",
       "      <td>4</td>\n",
       "      <td>SD</td>\n",
       "      <td>Sudan</td>\n",
       "      <td>SUB-SAHARAN AFRICA</td>\n",
       "      <td>33.0</td>\n",
       "      <td>0.27</td>\n",
       "      <td>0.03</td>\n",
       "      <td>0.92</td>\n",
       "      <td>0.63</td>\n",
       "      <td>0.68</td>\n",
       "      <td>0.89</td>\n",
       "    </tr>\n",
       "    <tr>\n",
       "      <th>...</th>\n",
       "      <td>...</td>\n",
       "      <td>...</td>\n",
       "      <td>...</td>\n",
       "      <td>...</td>\n",
       "      <td>...</td>\n",
       "      <td>...</td>\n",
       "      <td>...</td>\n",
       "      <td>...</td>\n",
       "      <td>...</td>\n",
       "      <td>...</td>\n",
       "      <td>...</td>\n",
       "    </tr>\n",
       "    <tr>\n",
       "      <th>219</th>\n",
       "      <td>225</td>\n",
       "      <td>MW</td>\n",
       "      <td>Malawi</td>\n",
       "      <td>SUB-SAHARAN AFRICA</td>\n",
       "      <td>5.0</td>\n",
       "      <td>25.46</td>\n",
       "      <td>20.37</td>\n",
       "      <td>25.46</td>\n",
       "      <td>27.41</td>\n",
       "      <td>3.59</td>\n",
       "      <td>5.09</td>\n",
       "    </tr>\n",
       "    <tr>\n",
       "      <th>220</th>\n",
       "      <td>226</td>\n",
       "      <td>ST</td>\n",
       "      <td>São Tomé and Príncipe</td>\n",
       "      <td>SUB-SAHARAN AFRICA</td>\n",
       "      <td>16.0</td>\n",
       "      <td>30.97</td>\n",
       "      <td>13.27</td>\n",
       "      <td>121.65</td>\n",
       "      <td>28.26</td>\n",
       "      <td>5.33</td>\n",
       "      <td>108.38</td>\n",
       "    </tr>\n",
       "    <tr>\n",
       "      <th>221</th>\n",
       "      <td>227</td>\n",
       "      <td>SH</td>\n",
       "      <td>Saint Helena</td>\n",
       "      <td>SUB-SAHARAN AFRICA</td>\n",
       "      <td>4.0</td>\n",
       "      <td>39.87</td>\n",
       "      <td>38.57</td>\n",
       "      <td>51.42</td>\n",
       "      <td>52.50</td>\n",
       "      <td>6.04</td>\n",
       "      <td>12.85</td>\n",
       "    </tr>\n",
       "    <tr>\n",
       "      <th>222</th>\n",
       "      <td>228</td>\n",
       "      <td>FK</td>\n",
       "      <td>Falkland Islands</td>\n",
       "      <td>SOUTH AMERICA</td>\n",
       "      <td>4.0</td>\n",
       "      <td>44.56</td>\n",
       "      <td>29.71</td>\n",
       "      <td>82.26</td>\n",
       "      <td>40.41</td>\n",
       "      <td>55.47</td>\n",
       "      <td>52.55</td>\n",
       "    </tr>\n",
       "    <tr>\n",
       "      <th>223</th>\n",
       "      <td>229</td>\n",
       "      <td>GQ</td>\n",
       "      <td>Equatorial Guinea</td>\n",
       "      <td>SUB-SAHARAN AFRICA</td>\n",
       "      <td>4.0</td>\n",
       "      <td>49.67</td>\n",
       "      <td>45.16</td>\n",
       "      <td>63.22</td>\n",
       "      <td>12.78</td>\n",
       "      <td>47.39</td>\n",
       "      <td>18.06</td>\n",
       "    </tr>\n",
       "  </tbody>\n",
       "</table>\n",
       "<p>224 rows × 11 columns</p>\n",
       "</div>"
      ],
      "text/plain": [
       "     Unnamed: 0 country_code           country_name country_continental  \\\n",
       "0             0           IL                 Israel           NEAR EAST   \n",
       "1             1           KG             Kyrgyzstan   CIS (FORMER USSR)   \n",
       "2             2           FJ                   Fiji             OCEANIA   \n",
       "3             3           IT                  Italy      WESTERN EUROPE   \n",
       "4             4           SD                  Sudan  SUB-SAHARAN AFRICA   \n",
       "..          ...          ...                    ...                 ...   \n",
       "219         225           MW                 Malawi  SUB-SAHARAN AFRICA   \n",
       "220         226           ST  São Tomé and Príncipe  SUB-SAHARAN AFRICA   \n",
       "221         227           SH           Saint Helena  SUB-SAHARAN AFRICA   \n",
       "222         228           FK       Falkland Islands       SOUTH AMERICA   \n",
       "223         229           GQ      Equatorial Guinea  SUB-SAHARAN AFRICA   \n",
       "\n",
       "     num_internet_plans  avg_price  min_price  max_price  \\\n",
       "0                  27.0       0.05       0.02      20.95   \n",
       "1                  20.0       0.15       0.10       7.08   \n",
       "2                  18.0       0.19       0.05       0.85   \n",
       "3                  29.0       0.27       0.09       3.54   \n",
       "4                  33.0       0.27       0.03       0.92   \n",
       "..                  ...        ...        ...        ...   \n",
       "219                 5.0      25.46      20.37      25.46   \n",
       "220                16.0      30.97      13.27     121.65   \n",
       "221                 4.0      39.87      38.57      51.42   \n",
       "222                 4.0      44.56      29.71      82.26   \n",
       "223                 4.0      49.67      45.16      63.22   \n",
       "\n",
       "     avg_price_start_2021  avg_price_start_2020  amplitude_preco  \n",
       "0                    0.11                  0.90            20.93  \n",
       "1                    0.21                  0.27             6.98  \n",
       "2                    0.59                  3.57             0.80  \n",
       "3                    0.43                  1.73             3.45  \n",
       "4                    0.63                  0.68             0.89  \n",
       "..                    ...                   ...              ...  \n",
       "219                 27.41                  3.59             5.09  \n",
       "220                 28.26                  5.33           108.38  \n",
       "221                 52.50                  6.04            12.85  \n",
       "222                 40.41                 55.47            52.55  \n",
       "223                 12.78                 47.39            18.06  \n",
       "\n",
       "[224 rows x 11 columns]"
      ]
     },
     "execution_count": 11,
     "metadata": {},
     "output_type": "execute_result"
    }
   ],
   "source": [
    "df1 = df1.assign(amplitude_preco = df1.max_price - df1.min_price)\n",
    "df1"
   ]
  },
  {
   "cell_type": "code",
   "execution_count": 12,
   "metadata": {},
   "outputs": [
    {
     "name": "stdout",
     "output_type": "stream",
     "text": [
      "Amplitude_preço_geral: 768.87. Maior preço: 768.87. Menor preço: 0.0\n",
      "Menor preço igual a zero pode ser devido a um erro do dataset ou alguma promoção de gratuidade durante um certo período.\n"
     ]
    }
   ],
   "source": [
    "print(f'Amplitude_preço_geral: {df1.max_price.max()-df1.min_price.min()}. Maior preço: {df1.max_price.max()}. Menor preço: {df1.min_price.min()}')\n",
    "print('Menor preço igual a zero pode ser devido a um erro do dataset ou alguma promoção de gratuidade durante um certo período.')"
   ]
  },
  {
   "cell_type": "markdown",
   "metadata": {},
   "source": [
    "## 7 - Usando somente o [seaborn](https://seaborn.pydata.org/) e [matplotlib](https://matplotlib.org/), construa um gráfico que mostre o valor médio, máximo e mínimo dos maiores preços para cada região."
   ]
  },
  {
   "cell_type": "code",
   "execution_count": 76,
   "metadata": {},
   "outputs": [
    {
     "data": {
      "image/png": "[encoded data removed]",
      "text/plain": [
       "<Figure size 1440x1440 with 1 Axes>"
      ]
     },
     "metadata": {
      "needs_background": "light"
     },
     "output_type": "display_data"
    }
   ],
   "source": [
    "df = df1.groupby(\"country_continental\").mean()\n",
    "df_max_max = df1.groupby(\"country_continental\").max()\n",
    "df_min_max = df1.groupby(\"country_continental\").min()\n",
    "df = df.assign(max_max = df_max_max.max_price-df.max_price)\n",
    "df = df.assign(min_max = df.max_price-df_min_max.max_price)\n",
    "df = df.reset_index()\n",
    "#xerr = df[['min_max','max_max']].T.to_numpy()\n",
    "\n",
    "plt.figure(figsize=(20,20))\n",
    "sns.barplot(data=df,x=\"country_continental\",y=\"max_price\", yerr = df[['min_max','max_max']].T.values, zorder=2)\n",
    "plt.yticks(np.arange(0,801,25))\n",
    "plt.xticks(rotation=45)\n",
    "plt.grid(axis=\"y\")\n",
    "plt.title('Variação do preço máximo \\n observado por região')\n",
    "plt.ylabel('Preço máximo (U$D)')\n",
    "plt.xlabel('Região')\n",
    "plt.show()"
   ]
  },
  {
   "cell_type": "markdown",
   "metadata": {},
   "source": [
    "Onde a altura das barras representa a média, e as linhas vão do valor mínimo ao valor máximo."
   ]
  },
  {
   "cell_type": "markdown",
   "metadata": {},
   "source": [
    "## 8 - Supondo que a gente more no Reino Unido (United Kingdom), usando a velocidade média e o preço médio, quantos Dolares eu pagaria se utiliza-se uma hora de internet?"
   ]
  },
  {
   "cell_type": "code",
   "execution_count": 115,
   "metadata": {},
   "outputs": [
    {
     "name": "stdout",
     "output_type": "stream",
     "text": [
      "Preço 1 hora internet: U$ 30.74\n"
     ]
    }
   ],
   "source": [
    "preco = df1[df1['country_name']==\"United Kingdom\"].iloc[0,5] #dolar/Gb\n",
    "velocidade = df2[df2['country_name']==\"United Kingdom\"].iloc[0,2]* 0.000125 * 3600 #conversao em mbit em Gb e s em hora\n",
    "\n",
    "print(f'Preço 1 hora internet: U$ {preco * velocidade:.2f}') #1hora"
   ]
  },
  {
   "cell_type": "markdown",
   "metadata": {},
   "source": [
    "## 9 - Utilizando os mesmos parâmetros da etapa anterior, supondo que você seja um dono de uma empresa que precisa instalar a internet no prédio e precisa fazer um orçamento. A empresa responsável disse que se você contratar um pacote até 50000Gb por dia é 300 Dolares, até 65000 é 350 Dolares e acima disso é 450 Dolares. Supondo que você tenha 300 funcionários, trabalhando 8 horas no dia, qual plano seria ideal para você?"
   ]
  },
  {
   "cell_type": "code",
   "execution_count": 116,
   "metadata": {},
   "outputs": [
    {
     "name": "stdout",
     "output_type": "stream",
     "text": [
      "Gbs necessários: 51948 Gb\n"
     ]
    }
   ],
   "source": [
    "velocidade = velocidade * 8\n",
    "need = velocidade * 300\n",
    "print(f'Gbs necessários: {need:.0f} Gb')"
   ]
  },
  {
   "cell_type": "markdown",
   "metadata": {},
   "source": [
    "Precisaríamos do plano de 350 doláres."
   ]
  },
  {
   "cell_type": "markdown",
   "metadata": {},
   "source": [
    "## 10 - Somente com uma visualização gráfica, comparando o preço médio em 2020 e 2021, com uma linha de tendência (Gráfico identidade x = y), conclua se o preço médio da internet ficou mais barato ou caro de 2020 para 2021."
   ]
  },
  {
   "cell_type": "code",
   "execution_count": 126,
   "metadata": {},
   "outputs": [
    {
     "data": {
      "image/png": "[encoded data removed]",
      "text/plain": [
       "<Figure size 720x360 with 1 Axes>"
      ]
     },
     "metadata": {
      "needs_background": "light"
     },
     "output_type": "display_data"
    }
   ],
   "source": [
    "plt.figure(figsize=(10,5))\n",
    "sns.scatterplot(data=df1, y=\"avg_price_start_2021\", x=\"avg_price_start_2020\")\n",
    "sns.lineplot(x = [0,70], y = [0,70])\n",
    "plt.show()"
   ]
  },
  {
   "cell_type": "markdown",
   "metadata": {},
   "source": [
    "Como a maioria dos pontos estão abaixo da linha identidade, temos que em 2021 houve uma redução nos preços comparando com 2020."
   ]
  }
 ],
 "metadata": {
  "kernelspec": {
   "display_name": "Python 3.9.12 ('base')",
   "language": "python",
   "name": "python3"
  },
  "language_info": {
   "codemirror_mode": {
    "name": "ipython",
    "version": 3
   },
   "file_extension": ".py",
   "mimetype": "text/x-python",
   "name": "python",
   "nbconvert_exporter": "python",
   "pygments_lexer": "ipython3",
   "version": "3.9.12"
  },
  "orig_nbformat": 4,
  "vscode": {
   "interpreter": {
    "hash": "d8ec4a234a3048a765173e7b64119a8d1a8e4ce4548f9a2d0fe97ce15d6f4926"
   }
  }
 },
 "nbformat": 4,
 "nbformat_minor": 2
}
